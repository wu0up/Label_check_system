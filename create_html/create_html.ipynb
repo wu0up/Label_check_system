{
 "cells": [
  {
   "cell_type": "code",
   "execution_count": 1,
   "metadata": {},
   "outputs": [],
   "source": [
    "import pyodbc\n",
    "import pandas as pd\n",
    "import numpy as np\n",
    "import requests\n",
    "import time\n",
    "from datetime import datetime, date, timedelta\n",
    "# from platform import python_version\n",
    "# print(python_version())\n",
    "# import monpa\n",
    "# monpa.load_userdict('train_monpa.txt')\n",
    "# pip install gensim\n",
    "# pip install tensorflow==1.15"
   ]
  },
  {
   "cell_type": "code",
   "execution_count": 2,
   "metadata": {},
   "outputs": [],
   "source": [
    "# save the category into sql server\n",
    "server = 'VIVIAN-HP\\SQLEXPRESS' \n",
    "database = 'QAlabel' \n",
    "# username = 'username' \n",
    "# password = 'yourpassword' \n",
    "cnxn = pyodbc.connect('DRIVER={SQL Server};SERVER='+server+';DATABASE='+database)\n",
    "cursor = cnxn.cursor()\n",
    "# Insert Dataframe into SQL Server:\n",
    "Insertquery =\"\"\"\n",
    "Select * from label_parameter \n",
    "WHERE labels =?;\n",
    "\n",
    "\"\"\"\n",
    "result = cursor.execute(Insertquery, '16_6')\n",
    "lst_result = list(result.fetchall())\n",
    "df_columns = ['labels','para', 'para_type']\n",
    "df = pd.DataFrame((tuple(t) for t in lst_result), columns=df_columns) \n",
    "df = df.reset_index(drop=True)"
   ]
  },
  {
   "cell_type": "code",
   "execution_count": 3,
   "metadata": {},
   "outputs": [
    {
     "data": {
      "text/html": [
       "<div>\n",
       "<style scoped>\n",
       "    .dataframe tbody tr th:only-of-type {\n",
       "        vertical-align: middle;\n",
       "    }\n",
       "\n",
       "    .dataframe tbody tr th {\n",
       "        vertical-align: top;\n",
       "    }\n",
       "\n",
       "    .dataframe thead th {\n",
       "        text-align: right;\n",
       "    }\n",
       "</style>\n",
       "<table border=\"1\" class=\"dataframe\">\n",
       "  <thead>\n",
       "    <tr style=\"text-align: right;\">\n",
       "      <th></th>\n",
       "      <th>labels</th>\n",
       "      <th>para</th>\n",
       "      <th>para_type</th>\n",
       "    </tr>\n",
       "  </thead>\n",
       "  <tbody>\n",
       "    <tr>\n",
       "      <td>0</td>\n",
       "      <td>16_6</td>\n",
       "      <td>中午是否彈性上班，true啟動，false不啟動</td>\n",
       "      <td>fac_para</td>\n",
       "    </tr>\n",
       "    <tr>\n",
       "      <td>1</td>\n",
       "      <td>16_6</td>\n",
       "      <td>正常班出勤A副規則:正常上班時間內有請假，出勤時數需計算到彈性下班時間。true啟用、fal...</td>\n",
       "      <td>fac_para</td>\n",
       "    </tr>\n",
       "    <tr>\n",
       "      <td>2</td>\n",
       "      <td>16_6</td>\n",
       "      <td>彈性班上班卡遲到情況下，出勤狀況維持遲到狀態</td>\n",
       "      <td>fac_para</td>\n",
       "    </tr>\n",
       "    <tr>\n",
       "      <td>3</td>\n",
       "      <td>16_6</td>\n",
       "      <td>請假資料檔</td>\n",
       "      <td>usual_para</td>\n",
       "    </tr>\n",
       "    <tr>\n",
       "      <td>4</td>\n",
       "      <td>16_6</td>\n",
       "      <td>上班別</td>\n",
       "      <td>usual_para</td>\n",
       "    </tr>\n",
       "  </tbody>\n",
       "</table>\n",
       "</div>"
      ],
      "text/plain": [
       "  labels                                               para   para_type\n",
       "0   16_6                           中午是否彈性上班，true啟動，false不啟動    fac_para\n",
       "1   16_6  正常班出勤A副規則:正常上班時間內有請假，出勤時數需計算到彈性下班時間。true啟用、fal...    fac_para\n",
       "2   16_6                             彈性班上班卡遲到情況下，出勤狀況維持遲到狀態    fac_para\n",
       "3   16_6                                              請假資料檔  usual_para\n",
       "4   16_6                                                上班別  usual_para"
      ]
     },
     "execution_count": 3,
     "metadata": {},
     "output_type": "execute_result"
    }
   ],
   "source": [
    "df.head()"
   ]
  },
  {
   "cell_type": "code",
   "execution_count": null,
   "metadata": {},
   "outputs": [],
   "source": [
    "question_2={\n",
    "    [\n",
    "    '標籤':'16_6',\n",
    "    '說明':'因為機關差勤規定「和差勤狀況判斷有關的參數」及請假，造成同仁覺得出勤狀況有問題'\n",
    "    ]\n",
    "        }"
   ]
  }
 ],
 "metadata": {
  "kernelspec": {
   "display_name": "Python 3",
   "language": "python",
   "name": "python3"
  },
  "language_info": {
   "codemirror_mode": {
    "name": "ipython",
    "version": 3
   },
   "file_extension": ".py",
   "mimetype": "text/x-python",
   "name": "python",
   "nbconvert_exporter": "python",
   "pygments_lexer": "ipython3",
   "version": "3.7.4"
  }
 },
 "nbformat": 4,
 "nbformat_minor": 2
}
